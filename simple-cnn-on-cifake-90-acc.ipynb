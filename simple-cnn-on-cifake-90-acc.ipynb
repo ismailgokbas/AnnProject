{
 "cells": [
  {
   "cell_type": "code",
   "execution_count": 1,
   "id": "3126180c",
   "metadata": {
    "_cell_guid": "b1076dfc-b9ad-4769-8c92-a6c4dae69d19",
    "_uuid": "8f2839f25d086af736a60e9eeb907d3b93b6e0e5",
    "execution": {
     "iopub.execute_input": "2024-01-03T08:28:39.221437Z",
     "iopub.status.busy": "2024-01-03T08:28:39.220339Z",
     "iopub.status.idle": "2024-01-03T08:28:50.625601Z",
     "shell.execute_reply": "2024-01-03T08:28:50.623683Z"
    },
    "papermill": {
     "duration": 11.412864,
     "end_time": "2024-01-03T08:28:50.628137",
     "exception": false,
     "start_time": "2024-01-03T08:28:39.215273",
     "status": "completed"
    },
    "tags": []
   },
   "outputs": [],
   "source": [
    "import numpy as np,pandas as pd\n",
    "import matplotlib.pyplot as plt\n",
    "import seaborn as sns\n",
    "import os\n",
    "\n",
    "import tensorflow as tf\n",
    "from tensorflow.keras.callbacks import ModelCheckpoint\n",
    "from tensorflow.keras import layers\n",
    "from tensorflow.keras import models\n",
    "from tensorflow.keras.preprocessing.image import ImageDataGenerator\n",
    "import cv2"
   ]
  },
  {
   "cell_type": "code",
   "execution_count": 2,
   "id": "7ccae5da",
   "metadata": {
    "execution": {
     "iopub.execute_input": "2024-01-03T08:28:50.637722Z",
     "iopub.status.busy": "2024-01-03T08:28:50.637075Z",
     "iopub.status.idle": "2024-01-03T08:31:10.283193Z",
     "shell.execute_reply": "2024-01-03T08:31:10.280506Z"
    },
    "papermill": {
     "duration": 139.653031,
     "end_time": "2024-01-03T08:31:10.286058",
     "exception": false,
     "start_time": "2024-01-03T08:28:50.633027",
     "status": "completed"
    },
    "tags": []
   },
   "outputs": [
    {
     "name": "stdout",
     "output_type": "stream",
     "text": [
      "Found 100000 images belonging to 2 classes.\n",
      "Found 20000 images belonging to 2 classes.\n"
     ]
    }
   ],
   "source": [
    "# get the directories of images\n",
    "train_img = '/kaggle/input/cifake-real-and-ai-generated-synthetic-images/train'\n",
    "test_img = '/kaggle/input/cifake-real-and-ai-generated-synthetic-images/test'\n",
    "\n",
    "weight,height = 32,32\n",
    "batch_size = 32\n",
    "\n",
    "generator = ImageDataGenerator(\n",
    "    rescale = 1.0/255\n",
    ")\n",
    "test_data_gen = ImageDataGenerator(rescale = 1.0/255)\n",
    "\n",
    "train_Dataset = generator.flow_from_directory(\n",
    "    train_img,\n",
    "    target_size = (weight,height),\n",
    "    batch_size = batch_size,\n",
    "    class_mode = 'binary',\n",
    "    shuffle = True\n",
    ")\n",
    "\n",
    "test_Dataset = test_data_gen.flow_from_directory(\n",
    "    test_img,\n",
    "    target_size = (weight,height),\n",
    "    batch_size = batch_size,\n",
    "    class_mode = 'binary',\n",
    "    shuffle = False\n",
    ")"
   ]
  },
  {
   "cell_type": "code",
   "execution_count": 3,
   "id": "58d06010",
   "metadata": {
    "execution": {
     "iopub.execute_input": "2024-01-03T08:31:10.295035Z",
     "iopub.status.busy": "2024-01-03T08:31:10.294599Z",
     "iopub.status.idle": "2024-01-03T08:31:10.301154Z",
     "shell.execute_reply": "2024-01-03T08:31:10.300388Z"
    },
    "papermill": {
     "duration": 0.013557,
     "end_time": "2024-01-03T08:31:10.302986",
     "exception": false,
     "start_time": "2024-01-03T08:31:10.289429",
     "status": "completed"
    },
    "tags": []
   },
   "outputs": [
    {
     "data": {
      "text/plain": [
       "{'FAKE': 0, 'REAL': 1}"
      ]
     },
     "execution_count": 3,
     "metadata": {},
     "output_type": "execute_result"
    }
   ],
   "source": [
    "train_Dataset.class_indices"
   ]
  },
  {
   "cell_type": "markdown",
   "id": "6b7b1ffc",
   "metadata": {
    "papermill": {
     "duration": 0.002859,
     "end_time": "2024-01-03T08:31:10.309180",
     "exception": false,
     "start_time": "2024-01-03T08:31:10.306321",
     "status": "completed"
    },
    "tags": []
   },
   "source": [
    "# Model(CNN)"
   ]
  },
  {
   "cell_type": "code",
   "execution_count": 4,
   "id": "f35201c2",
   "metadata": {
    "execution": {
     "iopub.execute_input": "2024-01-03T08:31:10.317824Z",
     "iopub.status.busy": "2024-01-03T08:31:10.316570Z",
     "iopub.status.idle": "2024-01-03T08:31:10.630865Z",
     "shell.execute_reply": "2024-01-03T08:31:10.629318Z"
    },
    "papermill": {
     "duration": 0.320795,
     "end_time": "2024-01-03T08:31:10.632956",
     "exception": false,
     "start_time": "2024-01-03T08:31:10.312161",
     "status": "completed"
    },
    "tags": []
   },
   "outputs": [
    {
     "name": "stdout",
     "output_type": "stream",
     "text": [
      "Model: \"sequential\"\n",
      "_________________________________________________________________\n",
      " Layer (type)                Output Shape              Param #   \n",
      "=================================================================\n",
      " conv2d (Conv2D)             (None, 30, 30, 32)        896       \n",
      "                                                                 \n",
      " max_pooling2d (MaxPooling2D  (None, 15, 15, 32)       0         \n",
      " )                                                               \n",
      "                                                                 \n",
      " conv2d_1 (Conv2D)           (None, 13, 13, 64)        18496     \n",
      "                                                                 \n",
      " max_pooling2d_1 (MaxPooling  (None, 6, 6, 64)         0         \n",
      " 2D)                                                             \n",
      "                                                                 \n",
      " conv2d_2 (Conv2D)           (None, 4, 4, 128)         73856     \n",
      "                                                                 \n",
      " max_pooling2d_2 (MaxPooling  (None, 2, 2, 128)        0         \n",
      " 2D)                                                             \n",
      "                                                                 \n",
      " flatten (Flatten)           (None, 512)               0         \n",
      "                                                                 \n",
      " dense (Dense)               (None, 256)               131328    \n",
      "                                                                 \n",
      " dropout (Dropout)           (None, 256)               0         \n",
      "                                                                 \n",
      " dense_1 (Dense)             (None, 1)                 257       \n",
      "                                                                 \n",
      "=================================================================\n",
      "Total params: 224,833\n",
      "Trainable params: 224,833\n",
      "Non-trainable params: 0\n",
      "_________________________________________________________________\n"
     ]
    }
   ],
   "source": [
    "# Define the model\n",
    "model = models.Sequential()\n",
    "\n",
    "# Convolutional layers\n",
    "model.add(layers.Conv2D(32, (3, 3), activation='relu', input_shape=(weight, height, 3)))\n",
    "model.add(layers.MaxPooling2D((2, 2)))\n",
    "model.add(layers.Conv2D(64, (3, 3), activation='relu'))\n",
    "model.add(layers.MaxPooling2D((2, 2)))\n",
    "model.add(layers.Conv2D(128, (3, 3), activation='relu'))\n",
    "model.add(layers.MaxPooling2D((2, 2)))\n",
    "\n",
    "# Flatten layer\n",
    "model.add(layers.Flatten())\n",
    "\n",
    "# Dense layers\n",
    "model.add(layers.Dense(256, activation='relu'))\n",
    "model.add(layers.Dropout(0.5))  # Optional dropout for regularization\n",
    "model.add(layers.Dense(1, activation='sigmoid'))  # Output layer with 1 neuron (binary classification)\n",
    "\n",
    "# Compile the model\n",
    "model.compile(optimizer='adam', loss='binary_crossentropy', metrics=['accuracy'])\n",
    "\n",
    "# Print a summary of the model architecture\n",
    "model.summary()"
   ]
  },
  {
   "cell_type": "code",
   "execution_count": 5,
   "id": "d4c560a8",
   "metadata": {
    "execution": {
     "iopub.execute_input": "2024-01-03T08:31:10.644815Z",
     "iopub.status.busy": "2024-01-03T08:31:10.644395Z",
     "iopub.status.idle": "2024-01-03T08:31:10.650595Z",
     "shell.execute_reply": "2024-01-03T08:31:10.649657Z"
    },
    "papermill": {
     "duration": 0.014987,
     "end_time": "2024-01-03T08:31:10.653030",
     "exception": false,
     "start_time": "2024-01-03T08:31:10.638043",
     "status": "completed"
    },
    "tags": []
   },
   "outputs": [],
   "source": [
    "# Save best model\n",
    "weight_path = '/kaggle/working/'\n",
    "\n",
    "model_checkpoint = ModelCheckpoint(\n",
    "    filepath = weight_path,\n",
    "    save_best_only = True,\n",
    "    save_weights_only = True,\n",
    "    mode = 'max',\n",
    "    monitor = 'val_accuracy'\n",
    ")"
   ]
  },
  {
   "cell_type": "markdown",
   "id": "3cc40591",
   "metadata": {
    "papermill": {
     "duration": 0.004505,
     "end_time": "2024-01-03T08:31:10.662515",
     "exception": false,
     "start_time": "2024-01-03T08:31:10.658010",
     "status": "completed"
    },
    "tags": []
   },
   "source": [
    "# Run Model\n",
    "\n",
    "idk, why kaggle isn't using GPU here, run 5-10 epochs atleast."
   ]
  },
  {
   "cell_type": "code",
   "execution_count": 6,
   "id": "ceb88b82",
   "metadata": {
    "execution": {
     "iopub.execute_input": "2024-01-03T08:31:10.673777Z",
     "iopub.status.busy": "2024-01-03T08:31:10.673331Z",
     "iopub.status.idle": "2024-01-03T08:43:55.834796Z",
     "shell.execute_reply": "2024-01-03T08:43:55.833365Z"
    },
    "papermill": {
     "duration": 765.169855,
     "end_time": "2024-01-03T08:43:55.837079",
     "exception": false,
     "start_time": "2024-01-03T08:31:10.667224",
     "status": "completed"
    },
    "tags": []
   },
   "outputs": [
    {
     "name": "stdout",
     "output_type": "stream",
     "text": [
      "Epoch 1/2\n",
      "3125/3125 [==============================] - 561s 179ms/step - loss: 0.3404 - accuracy: 0.8510 - val_loss: 0.2416 - val_accuracy: 0.9030\n",
      "Epoch 2/2\n",
      "3125/3125 [==============================] - 190s 61ms/step - loss: 0.2282 - accuracy: 0.9084 - val_loss: 0.2030 - val_accuracy: 0.9143\n"
     ]
    },
    {
     "data": {
      "text/plain": [
       "<keras.callbacks.History at 0x79998c85cdc0>"
      ]
     },
     "execution_count": 6,
     "metadata": {},
     "output_type": "execute_result"
    }
   ],
   "source": [
    "model.fit(train_Dataset, \n",
    "                    epochs=2, \n",
    "                    validation_data=test_Dataset,\n",
    "                    callbacks=[model_checkpoint]\n",
    "                   )"
   ]
  },
  {
   "cell_type": "code",
   "execution_count": 7,
   "id": "34069cf4",
   "metadata": {
    "execution": {
     "iopub.execute_input": "2024-01-03T08:43:56.526506Z",
     "iopub.status.busy": "2024-01-03T08:43:56.525849Z",
     "iopub.status.idle": "2024-01-03T08:44:37.667189Z",
     "shell.execute_reply": "2024-01-03T08:44:37.666142Z"
    },
    "papermill": {
     "duration": 41.456386,
     "end_time": "2024-01-03T08:44:37.669347",
     "exception": false,
     "start_time": "2024-01-03T08:43:56.212961",
     "status": "completed"
    },
    "tags": []
   },
   "outputs": [
    {
     "name": "stdout",
     "output_type": "stream",
     "text": [
      "625/625 [==============================] - 23s 37ms/step\n"
     ]
    }
   ],
   "source": [
    "# load best weights to model\n",
    "model.load_weights(weight_path)\n",
    "\n",
    "# make prediction\n",
    "predictions = model.predict(test_Dataset)"
   ]
  },
  {
   "cell_type": "code",
   "execution_count": 8,
   "id": "08867c18",
   "metadata": {
    "execution": {
     "iopub.execute_input": "2024-01-03T08:44:38.328636Z",
     "iopub.status.busy": "2024-01-03T08:44:38.327611Z",
     "iopub.status.idle": "2024-01-03T08:44:38.336160Z",
     "shell.execute_reply": "2024-01-03T08:44:38.335189Z"
    },
    "papermill": {
     "duration": 0.340503,
     "end_time": "2024-01-03T08:44:38.337827",
     "exception": false,
     "start_time": "2024-01-03T08:44:37.997324",
     "status": "completed"
    },
    "tags": []
   },
   "outputs": [
    {
     "data": {
      "text/plain": [
       "array([[0],\n",
       "       [0],\n",
       "       [0],\n",
       "       ...,\n",
       "       [1],\n",
       "       [1],\n",
       "       [0]])"
      ]
     },
     "execution_count": 8,
     "metadata": {},
     "output_type": "execute_result"
    }
   ],
   "source": [
    "binary_predictions = (predictions > 0.5).astype(int)\n",
    "binary_predictions"
   ]
  },
  {
   "cell_type": "code",
   "execution_count": 9,
   "id": "9dfb945d",
   "metadata": {
    "execution": {
     "iopub.execute_input": "2024-01-03T08:44:39.059713Z",
     "iopub.status.busy": "2024-01-03T08:44:39.059371Z",
     "iopub.status.idle": "2024-01-03T08:44:39.603842Z",
     "shell.execute_reply": "2024-01-03T08:44:39.602936Z"
    },
    "papermill": {
     "duration": 0.87713,
     "end_time": "2024-01-03T08:44:39.605862",
     "exception": false,
     "start_time": "2024-01-03T08:44:38.728732",
     "status": "completed"
    },
    "tags": []
   },
   "outputs": [
    {
     "name": "stdout",
     "output_type": "stream",
     "text": [
      "              precision    recall  f1-score   support\n",
      "\n",
      "           0       0.90      0.93      0.92     10000\n",
      "           1       0.93      0.89      0.91     10000\n",
      "\n",
      "    accuracy                           0.91     20000\n",
      "   macro avg       0.92      0.91      0.91     20000\n",
      "weighted avg       0.92      0.91      0.91     20000\n",
      "\n"
     ]
    },
    {
     "data": {
      "image/png": "[encoded data removed]",
      "text/plain": [
       "<Figure size 640x480 with 2 Axes>"
      ]
     },
     "metadata": {},
     "output_type": "display_data"
    }
   ],
   "source": [
    "from sklearn.metrics import confusion_matrix, classification_report\n",
    "\n",
    "# Assuming you have true labels (ground truth)\n",
    "true_labels = test_Dataset.classes\n",
    "\n",
    "# Generate a confusion matrix\n",
    "sns.heatmap(confusion_matrix(true_labels, binary_predictions), annot=True)\n",
    "\n",
    "# Print classification report\n",
    "print(classification_report(true_labels, binary_predictions))\n",
    "\n",
    "plt.title('Confusion Matrix')\n",
    "plt.xlabel('Predicted')\n",
    "plt.ylabel('Actual Classes')\n",
    "plt.show()"
   ]
  }
 ],
 "metadata": {
  "kaggle": {
   "accelerator": "none",
   "dataSources": [
    {
     "datasetId": 3041726,
     "sourceId": 5256696,
     "sourceType": "datasetVersion"
    }
   ],
   "dockerImageVersionId": 30558,
   "isGpuEnabled": false,
   "isInternetEnabled": false,
   "language": "python",
   "sourceType": "notebook"
  },
  "kernelspec": {
   "display_name": "Python 3",
   "language": "python",
   "name": "python3"
  },
  "language_info": {
   "codemirror_mode": {
    "name": "ipython",
    "version": 3
   },
   "file_extension": ".py",
   "mimetype": "text/x-python",
   "name": "python",
   "nbconvert_exporter": "python",
   "pygments_lexer": "ipython3",
   "version": "3.10.12"
  },
  "papermill": {
   "default_parameters": {},
   "duration": 965.871947,
   "end_time": "2024-01-03T08:44:41.664101",
   "environment_variables": {},
   "exception": null,
   "input_path": "__notebook__.ipynb",
   "output_path": "__notebook__.ipynb",
   "parameters": {},
   "start_time": "2024-01-03T08:28:35.792154",
   "version": "2.4.0"
  }
 },
 "nbformat": 4,
 "nbformat_minor": 5
}
