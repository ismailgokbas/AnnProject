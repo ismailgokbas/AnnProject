{
 "cells": [
  {
   "cell_type": "code",
   "execution_count": 1,
   "id": "8c023a98",
   "metadata": {
    "_cell_guid": "b1076dfc-b9ad-4769-8c92-a6c4dae69d19",
    "_uuid": "8f2839f25d086af736a60e9eeb907d3b93b6e0e5",
    "execution": {
     "iopub.execute_input": "2023-12-19T21:08:09.145800Z",
     "iopub.status.busy": "2023-12-19T21:08:09.145423Z",
     "iopub.status.idle": "2023-12-19T21:08:23.471138Z",
     "shell.execute_reply": "2023-12-19T21:08:23.469913Z"
    },
    "papermill": {
     "duration": 14.336575,
     "end_time": "2023-12-19T21:08:23.474555",
     "exception": false,
     "start_time": "2023-12-19T21:08:09.137980",
     "status": "completed"
    },
    "tags": []
   },
   "outputs": [],
   "source": [
    "import pandas as pd\n",
    "import tensorflow as tf\n",
    "import tensorflow.keras.layers as tfl\n",
    "from tensorflow.python.framework import ops\n",
    "import pandas as pd\n",
    "import matplotlib.pyplot as plt\n",
    "import h5py\n",
    "import scipy\n",
    "%matplotlib inline\n",
    "from matplotlib.image import imread\n",
    "import math\n",
    "import numpy as np\n",
    "from PIL import Image\n",
    "from tensorflow.keras.models import Sequential\n",
    "from tensorflow.keras.layers import Conv2D, MaxPooling2D, Flatten, Dense, Dropout, BatchNormalization\n",
    "import os\n",
    "from tensorflow.python.keras import regularizers"
   ]
  },
  {
   "cell_type": "code",
   "execution_count": 2,
   "id": "45fc1851",
   "metadata": {
    "execution": {
     "iopub.execute_input": "2023-12-19T21:08:23.487108Z",
     "iopub.status.busy": "2023-12-19T21:08:23.486369Z",
     "iopub.status.idle": "2023-12-19T21:08:23.491429Z",
     "shell.execute_reply": "2023-12-19T21:08:23.490323Z"
    },
    "papermill": {
     "duration": 0.013836,
     "end_time": "2023-12-19T21:08:23.493871",
     "exception": false,
     "start_time": "2023-12-19T21:08:23.480035",
     "status": "completed"
    },
    "tags": []
   },
   "outputs": [],
   "source": [
    "folder = \"/kaggle/input/cifake-real-and-ai-generated-synthetic-images/train\""
   ]
  },
  {
   "cell_type": "code",
   "execution_count": 3,
   "id": "b490a178",
   "metadata": {
    "execution": {
     "iopub.execute_input": "2023-12-19T21:08:23.505195Z",
     "iopub.status.busy": "2023-12-19T21:08:23.504781Z",
     "iopub.status.idle": "2023-12-19T21:08:23.512750Z",
     "shell.execute_reply": "2023-12-19T21:08:23.511242Z"
    },
    "papermill": {
     "duration": 0.016893,
     "end_time": "2023-12-19T21:08:23.515495",
     "exception": false,
     "start_time": "2023-12-19T21:08:23.498602",
     "status": "completed"
    },
    "tags": []
   },
   "outputs": [],
   "source": [
    "def transform_to_arrays(file):\n",
    "    fake = []\n",
    "    real = []\n",
    "    for dirname, _, filenames in os.walk(file +'/FAKE/'):\n",
    "        for filename in filenames:\n",
    "            image = imread(dirname+filename)\n",
    "            fake.append(np.asarray(image))\n",
    "    for dirname, _, filenames in os.walk(file +'/REAL/'):\n",
    "        for filename in filenames:\n",
    "            image = imread(dirname+filename)\n",
    "            real.append(np.asarray(image))\n",
    "            \n",
    "    return real, fake"
   ]
  },
  {
   "cell_type": "code",
   "execution_count": 4,
   "id": "4401c4d7",
   "metadata": {
    "execution": {
     "iopub.execute_input": "2023-12-19T21:08:23.526825Z",
     "iopub.status.busy": "2023-12-19T21:08:23.526397Z",
     "iopub.status.idle": "2023-12-19T21:22:07.868375Z",
     "shell.execute_reply": "2023-12-19T21:22:07.867013Z"
    },
    "papermill": {
     "duration": 824.351327,
     "end_time": "2023-12-19T21:22:07.871539",
     "exception": false,
     "start_time": "2023-12-19T21:08:23.520212",
     "status": "completed"
    },
    "tags": []
   },
   "outputs": [],
   "source": [
    "real, fake = transform_to_arrays(folder)"
   ]
  },
  {
   "cell_type": "code",
   "execution_count": 5,
   "id": "02f72398",
   "metadata": {
    "execution": {
     "iopub.execute_input": "2023-12-19T21:22:07.883903Z",
     "iopub.status.busy": "2023-12-19T21:22:07.882730Z",
     "iopub.status.idle": "2023-12-19T21:22:08.126406Z",
     "shell.execute_reply": "2023-12-19T21:22:08.125503Z"
    },
    "papermill": {
     "duration": 0.252203,
     "end_time": "2023-12-19T21:22:08.128822",
     "exception": false,
     "start_time": "2023-12-19T21:22:07.876619",
     "status": "completed"
    },
    "tags": []
   },
   "outputs": [
    {
     "data": {
      "text/plain": [
       "((50000, 32, 32, 3), (50000, 32, 32, 3))"
      ]
     },
     "execution_count": 5,
     "metadata": {},
     "output_type": "execute_result"
    }
   ],
   "source": [
    "real_array = np.asarray(real)\n",
    "fake_array = np.asarray(fake)\n",
    "real_array.shape, fake_array.shape"
   ]
  },
  {
   "cell_type": "code",
   "execution_count": 6,
   "id": "5a08f1cb",
   "metadata": {
    "execution": {
     "iopub.execute_input": "2023-12-19T21:22:08.140626Z",
     "iopub.status.busy": "2023-12-19T21:22:08.139903Z",
     "iopub.status.idle": "2023-12-19T21:22:08.149394Z",
     "shell.execute_reply": "2023-12-19T21:22:08.148283Z"
    },
    "papermill": {
     "duration": 0.018221,
     "end_time": "2023-12-19T21:22:08.152053",
     "exception": false,
     "start_time": "2023-12-19T21:22:08.133832",
     "status": "completed"
    },
    "tags": []
   },
   "outputs": [],
   "source": [
    "#Getting all data\n",
    "def custom_split(real_data, fake_data, split_ratio=0.3, num_samples=100000):\n",
    "    random_indices = np.random.randint(num_samples, size=num_samples)\n",
    "    dev_samples = int(num_samples * split_ratio)\n",
    "    train_samples = num_samples - dev_samples\n",
    "    \n",
    "    data_shuffle = []\n",
    "    labels_shuffle = []\n",
    "    \n",
    "    # Assuming real_data and fake_data are the input parameters\n",
    "    labels = [0] * len(real_data) + [1] * len(fake_data)\n",
    "    data = np.concatenate((real_data, fake_data), axis=0)\n",
    "    \n",
    "    for index in random_indices:\n",
    "        data_shuffle.append(data[index])\n",
    "        labels_shuffle.append(labels[index])\n",
    "    \n",
    "    data_shuffle = np.array(data_shuffle)\n",
    "    labels_shuffle = np.array(labels_shuffle)\n",
    "    \n",
    "    dev_data = data_shuffle[:dev_samples]\n",
    "    dev_labels = labels_shuffle[:dev_samples]\n",
    "    \n",
    "    train_data = data_shuffle[dev_samples:]\n",
    "    train_labels = labels_shuffle[dev_samples:]\n",
    "    \n",
    "    return train_data, train_labels, dev_data, dev_labels\n"
   ]
  },
  {
   "cell_type": "code",
   "execution_count": 7,
   "id": "74cad8dd",
   "metadata": {
    "execution": {
     "iopub.execute_input": "2023-12-19T21:22:08.163858Z",
     "iopub.status.busy": "2023-12-19T21:22:08.163435Z",
     "iopub.status.idle": "2023-12-19T21:22:09.660815Z",
     "shell.execute_reply": "2023-12-19T21:22:09.659395Z"
    },
    "papermill": {
     "duration": 1.506883,
     "end_time": "2023-12-19T21:22:09.663953",
     "exception": false,
     "start_time": "2023-12-19T21:22:08.157070",
     "status": "completed"
    },
    "tags": []
   },
   "outputs": [],
   "source": [
    "from sklearn.model_selection import train_test_split\n",
    "\n",
    "X_train, X_dev, y_train, y_dev = train_test_split(np.concatenate([real, fake]), \n",
    "                                                  np.concatenate([np.ones(len(real)), np.zeros(len(fake))]),\n",
    "                                                  test_size=0.2, random_state=42)"
   ]
  },
  {
   "cell_type": "code",
   "execution_count": 8,
   "id": "adcc290d",
   "metadata": {
    "execution": {
     "iopub.execute_input": "2023-12-19T21:22:09.676033Z",
     "iopub.status.busy": "2023-12-19T21:22:09.675174Z",
     "iopub.status.idle": "2023-12-19T21:22:10.144863Z",
     "shell.execute_reply": "2023-12-19T21:22:10.143623Z"
    },
    "papermill": {
     "duration": 0.478941,
     "end_time": "2023-12-19T21:22:10.147951",
     "exception": false,
     "start_time": "2023-12-19T21:22:09.669010",
     "status": "completed"
    },
    "tags": []
   },
   "outputs": [],
   "source": [
    "#Scale Data to make model efficient\n",
    "from keras.preprocessing.image import ImageDataGenerator\n",
    "\n",
    "datagen = ImageDataGenerator(rescale = 1.0/255.0)\n",
    "train_it = datagen.flow(X_train, y_train, batch_size=64)\n",
    "dev_it = datagen.flow(X_dev, y_dev, batch_size=64)"
   ]
  },
  {
   "cell_type": "code",
   "execution_count": 9,
   "id": "24cc9991",
   "metadata": {
    "execution": {
     "iopub.execute_input": "2023-12-19T21:22:10.159670Z",
     "iopub.status.busy": "2023-12-19T21:22:10.159255Z",
     "iopub.status.idle": "2023-12-19T21:22:10.630820Z",
     "shell.execute_reply": "2023-12-19T21:22:10.629964Z"
    },
    "papermill": {
     "duration": 0.480542,
     "end_time": "2023-12-19T21:22:10.633401",
     "exception": false,
     "start_time": "2023-12-19T21:22:10.152859",
     "status": "completed"
    },
    "tags": []
   },
   "outputs": [],
   "source": [
    "#Model Creation\n",
    "from tensorflow.keras import layers, Sequential, regularizers\n",
    "\n",
    "model = Sequential([\n",
    "    layers.Input(shape=(32, 32, 3)),\n",
    "    \n",
    "    # Convolutional layers\n",
    "    layers.Conv2D(32, (3, 3), activation='relu'),\n",
    "    layers.MaxPooling2D(pool_size=(2, 2)),\n",
    "    \n",
    "    layers.Conv2D(64, (3, 3), activation='relu'),\n",
    "    layers.MaxPooling2D(pool_size=(2, 2)),\n",
    "    \n",
    "    layers.Conv2D(128, (3, 3), activation='relu'),\n",
    "    layers.MaxPooling2D(pool_size=(2, 2)),\n",
    "    \n",
    "    # Flatten layer\n",
    "    layers.Flatten(),\n",
    "    \n",
    "    # Dropout layer\n",
    "    layers.Dropout(0.2),\n",
    "    \n",
    "    # Dense layers\n",
    "    layers.Dense(256, kernel_regularizer=regularizers.l2(0.01), activation='relu'),\n",
    "    layers.Dense(1, activation='sigmoid')\n",
    "])\n"
   ]
  },
  {
   "cell_type": "code",
   "execution_count": 10,
   "id": "018a83be",
   "metadata": {
    "execution": {
     "iopub.execute_input": "2023-12-19T21:22:10.645620Z",
     "iopub.status.busy": "2023-12-19T21:22:10.645174Z",
     "iopub.status.idle": "2023-12-19T21:22:10.664403Z",
     "shell.execute_reply": "2023-12-19T21:22:10.663383Z"
    },
    "papermill": {
     "duration": 0.028926,
     "end_time": "2023-12-19T21:22:10.667283",
     "exception": false,
     "start_time": "2023-12-19T21:22:10.638357",
     "status": "completed"
    },
    "tags": []
   },
   "outputs": [],
   "source": [
    "#Model Compiling\n",
    "model.compile(optimizer='adam', loss='binary_crossentropy', metrics=['accuracy'])"
   ]
  },
  {
   "cell_type": "code",
   "execution_count": 11,
   "id": "37a7cc5d",
   "metadata": {
    "execution": {
     "iopub.execute_input": "2023-12-19T21:22:10.679079Z",
     "iopub.status.busy": "2023-12-19T21:22:10.678683Z",
     "iopub.status.idle": "2023-12-19T21:22:10.720183Z",
     "shell.execute_reply": "2023-12-19T21:22:10.718825Z"
    },
    "papermill": {
     "duration": 0.05812,
     "end_time": "2023-12-19T21:22:10.730570",
     "exception": false,
     "start_time": "2023-12-19T21:22:10.672450",
     "status": "completed"
    },
    "tags": []
   },
   "outputs": [
    {
     "name": "stdout",
     "output_type": "stream",
     "text": [
      "Model: \"sequential\"\n",
      "_________________________________________________________________\n",
      " Layer (type)                Output Shape              Param #   \n",
      "=================================================================\n",
      " conv2d (Conv2D)             (None, 30, 30, 32)        896       \n",
      "                                                                 \n",
      " max_pooling2d (MaxPooling2  (None, 15, 15, 32)        0         \n",
      " D)                                                              \n",
      "                                                                 \n",
      " conv2d_1 (Conv2D)           (None, 13, 13, 64)        18496     \n",
      "                                                                 \n",
      " max_pooling2d_1 (MaxPoolin  (None, 6, 6, 64)          0         \n",
      " g2D)                                                            \n",
      "                                                                 \n",
      " conv2d_2 (Conv2D)           (None, 4, 4, 128)         73856     \n",
      "                                                                 \n",
      " max_pooling2d_2 (MaxPoolin  (None, 2, 2, 128)         0         \n",
      " g2D)                                                            \n",
      "                                                                 \n",
      " flatten (Flatten)           (None, 512)               0         \n",
      "                                                                 \n",
      " dropout (Dropout)           (None, 512)               0         \n",
      "                                                                 \n",
      " dense (Dense)               (None, 256)               131328    \n",
      "                                                                 \n",
      " dense_1 (Dense)             (None, 1)                 257       \n",
      "                                                                 \n",
      "=================================================================\n",
      "Total params: 224833 (878.25 KB)\n",
      "Trainable params: 224833 (878.25 KB)\n",
      "Non-trainable params: 0 (0.00 Byte)\n",
      "_________________________________________________________________\n"
     ]
    }
   ],
   "source": [
    "model.summary()"
   ]
  }
 ],
 "metadata": {
  "kaggle": {
   "accelerator": "none",
   "dataSources": [
    {
     "datasetId": 3041726,
     "sourceId": 5256696,
     "sourceType": "datasetVersion"
    }
   ],
   "dockerImageVersionId": 30626,
   "isGpuEnabled": false,
   "isInternetEnabled": false,
   "language": "python",
   "sourceType": "notebook"
  },
  "kernelspec": {
   "display_name": "Python 3",
   "language": "python",
   "name": "python3"
  },
  "language_info": {
   "codemirror_mode": {
    "name": "ipython",
    "version": 3
   },
   "file_extension": ".py",
   "mimetype": "text/x-python",
   "name": "python",
   "nbconvert_exporter": "python",
   "pygments_lexer": "ipython3",
   "version": "3.10.12"
  },
  "papermill": {
   "default_parameters": {},
   "duration": 846.676697,
   "end_time": "2023-12-19T21:22:12.365989",
   "environment_variables": {},
   "exception": null,
   "input_path": "__notebook__.ipynb",
   "output_path": "__notebook__.ipynb",
   "parameters": {},
   "start_time": "2023-12-19T21:08:05.689292",
   "version": "2.4.0"
  }
 },
 "nbformat": 4,
 "nbformat_minor": 5
}
